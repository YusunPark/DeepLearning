{
  "nbformat": 4,
  "nbformat_minor": 0,
  "metadata": {
    "colab": {
      "name": "케라스_기초.ipynb",
      "provenance": [],
      "collapsed_sections": [],
      "authorship_tag": "ABX9TyMlMTpZbBw3l3ieo/fQ3leG"
    },
    "kernelspec": {
      "name": "python3",
      "display_name": "Python 3"
    },
    "language_info": {
      "name": "python"
    }
  },
  "cells": [
    {
      "cell_type": "markdown",
      "metadata": {
        "id": "pZeItyyxWFg4"
      },
      "source": [
        "## 케라스를 이용해서 간단한 인공신경망을 구현하기\n",
        "\n",
        ": 숫자 5개 중 2개를 학습하여 나머지 3개를 예측하는 예제\n",
        "\n",
        "--> 결론 : 인공지능 가중치의 초깃값설정, 에포크, 학습 속도 등에서 약간씩 달라질 수 있다.\n",
        "\n",
        "<br>\n",
        "\n",
        "- 구현할 인공신경망은 가중치 1개, 편향값 1개를 가짐.\n",
        "- 구현에는 케라스의 서브패키지인 models, layers 이용\n",
        "\n",
        "1. models : 인공신경망의 각 계층을 연결하여 하나의 모델을 만든 후 컴파일, 학습, 예측을 담당\n",
        "2. layers : 인공신경망의 각 계층을 만드는 클래스를 제공 -> Dense클래스를 사용할 것"
      ]
    },
    {
      "cell_type": "code",
      "metadata": {
        "id": "nNhP1168VNPs"
      },
      "source": [
        "# colab에서 케라스를 불러올때 tensorflow.keras로 불러와야 한다.\n",
        "import tensorflow.keras as keras"
      ],
      "execution_count": null,
      "outputs": []
    },
    {
      "cell_type": "code",
      "metadata": {
        "id": "NHk3qDScVUWz"
      },
      "source": [
        "import numpy as np"
      ],
      "execution_count": null,
      "outputs": []
    },
    {
      "cell_type": "code",
      "metadata": {
        "id": "FkJ1spGTY4-A"
      },
      "source": [
        "# 학습/평가에 사용할 전체 데이터 지정\n",
        "x = numpy.array([0, 1, 2, 3, 4])\n",
        "y = x * 2 + 1"
      ],
      "execution_count": null,
      "outputs": []
    },
    {
      "cell_type": "code",
      "metadata": {
        "id": "6vvEuw71VWK-"
      },
      "source": [
        "# 케라스로 인공신경망 모델을 만들기 시작했음을 models.Sequential()을 이용해서 알리는 작업\n",
        "model = keras.models.Sequential()"
      ],
      "execution_count": null,
      "outputs": []
    },
    {
      "cell_type": "code",
      "metadata": {
        "id": "49RWfyScV1se"
      },
      "source": [
        "# add()를 이용해서 인공지능 계층을 추가한다.\n",
        "# Dense(1, input_shape(1,)) => 입력노드 하나와 가중치 하나를 가지는 선형 처리 인공지능 계층\n",
        "# 내부적으로 계층은 편향값을 가지고 있으므로, 미지수 둘을 포함하는 셈이다.\n",
        "model.add(keras.layers.Dense(1, input_shape=(1,)))"
      ],
      "execution_count": null,
      "outputs": []
    },
    {
      "cell_type": "code",
      "metadata": {
        "id": "xbCnCn-yW8wo"
      },
      "source": [
        "# compile -> 모델 파라미터를 통해 모델 구조를 생성하는 단계를 의미함.\n",
        "# SGD -> 확률적 경사 하강법 (최적화 알고리즘)\n",
        "# mse -> 평균 제곱 오차 (손실 함수)\n",
        "model.compile('SGD', 'mse')"
      ],
      "execution_count": null,
      "outputs": []
    },
    {
      "cell_type": "code",
      "metadata": {
        "id": "ukrITKf0XYAp"
      },
      "source": [
        "# 모델을 주어진 데이터로 학습시키기\n",
        "# 모델은 model, 데이터는 x\n",
        "# 찾아야할 미지수는 가중치 1개, 편향값 1개 => 입력 신호 2개와 출력 신호 2개를 제공하면 미지수를 찾을 수 있다.\n",
        "# ==> x[:2], y[:2]를 통해서 학습시작\n",
        "\n",
        "# epochs : epoch(학습시,데이터 전체가 사용된 한 회)의 반복 회수\n",
        "# verbose : 학습의 진행 사항의 표시 여부  (0: 표시 x, 1: 표시)\n",
        "model.fit(x[:2], y[:2], epochs=1000, verbose=1)"
      ],
      "execution_count": null,
      "outputs": []
    },
    {
      "cell_type": "code",
      "metadata": {
        "colab": {
          "base_uri": "https://localhost:8080/"
        },
        "id": "DJftrOTAY0lJ",
        "outputId": "15b1c94b-2a66-4149-f40d-53210e9389ca"
      },
      "source": [
        "# 잘 학습되었는지 확인과정\n",
        "print('Targets: ', y[2:])\n",
        "print('Predictions: ', model.predict(x[2:]).flatten())"
      ],
      "execution_count": null,
      "outputs": [
        {
          "output_type": "stream",
          "text": [
            "Targets:  [5 7 9]\n",
            "Predictions:  [4.9999886 6.999981  8.999973 ]\n"
          ],
          "name": "stdout"
        }
      ]
    },
    {
      "cell_type": "code",
      "metadata": {
        "id": "NdqmtZktZyCz"
      },
      "source": [
        ""
      ],
      "execution_count": null,
      "outputs": []
    },
    {
      "cell_type": "code",
      "metadata": {
        "id": "h4FqrJyOZz7R"
      },
      "source": [
        ""
      ],
      "execution_count": null,
      "outputs": []
    }
  ]
}