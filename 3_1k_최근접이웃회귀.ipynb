{
  "nbformat": 4,
  "nbformat_minor": 0,
  "metadata": {
    "colab": {
      "name": "3-1k-최근접이웃회귀.ipynb",
      "provenance": [],
      "collapsed_sections": [],
      "authorship_tag": "ABX9TyPiiH/k+oUAI5T7A0OeCcBn",
      "include_colab_link": true
    },
    "kernelspec": {
      "name": "python3",
      "display_name": "Python 3"
    },
    "language_info": {
      "name": "python"
    }
  },
  "cells": [
    {
      "cell_type": "markdown",
      "metadata": {
        "id": "view-in-github",
        "colab_type": "text"
      },
      "source": [
        "<a href=\"https://colab.research.google.com/github/YusunPark/DeepLearning/blob/main/3_1k_%EC%B5%9C%EA%B7%BC%EC%A0%91%EC%9D%B4%EC%9B%83%ED%9A%8C%EA%B7%80.ipynb\" target=\"_parent\"><img src=\"https://colab.research.google.com/assets/colab-badge.svg\" alt=\"Open In Colab\"/></a>"
      ]
    },
    {
      "cell_type": "markdown",
      "metadata": {
        "id": "amFQ82EUEcOD"
      },
      "source": [
        "# k-최근접 이웃 회귀\n",
        "\n",
        "113p\n",
        "이번에는\n",
        "- `무언가를 고르는 문제` X\n",
        "- `생선의 무게를 예측해야함`\n",
        "\n",
        "-> 정확하게 측정한 샘플을 토대로 무게를 예측하려고 한다.\n",
        "\n",
        "-> 내년도 경제 성장률을 예측, 배달이 도착할 시간을 예측하는 것들이 회귀 문제이다.\n"
      ]
    },
    {
      "cell_type": "markdown",
      "metadata": {
        "id": "i5J2cFzCrDWT"
      },
      "source": [
        "## 데이터 준비"
      ]
    },
    {
      "cell_type": "code",
      "metadata": {
        "id": "CHSNASyRET-X"
      },
      "source": [
        "import numpy as np"
      ],
      "execution_count": null,
      "outputs": []
    },
    {
      "cell_type": "code",
      "metadata": {
        "id": "6vuvFeDCN3ZQ"
      },
      "source": [
        "perch_length = np.array(\n",
        "    [8.4, 13.7, 15.0, 16.2, 17.4, 18.0, 18.7, 19.0, 19.6, 20.0, \n",
        "     21.0, 21.0, 21.0, 21.3, 22.0, 22.0, 22.0, 22.0, 22.0, 22.5, \n",
        "     22.5, 22.7, 23.0, 23.5, 24.0, 24.0, 24.6, 25.0, 25.6, 26.5, \n",
        "     27.3, 27.5, 27.5, 27.5, 28.0, 28.7, 30.0, 32.8, 34.5, 35.0, \n",
        "     36.5, 36.0, 37.0, 37.0, 39.0, 39.0, 39.0, 40.0, 40.0, 40.0, \n",
        "     40.0, 42.0, 43.0, 43.0, 43.5, 44.0]\n",
        "     )\n",
        "perch_weight = np.array(\n",
        "    [5.9, 32.0, 40.0, 51.5, 70.0, 100.0, 78.0, 80.0, 85.0, 85.0, \n",
        "     110.0, 115.0, 125.0, 130.0, 120.0, 120.0, 130.0, 135.0, 110.0, \n",
        "     130.0, 150.0, 145.0, 150.0, 170.0, 225.0, 145.0, 188.0, 180.0, \n",
        "     197.0, 218.0, 300.0, 260.0, 265.0, 250.0, 250.0, 300.0, 320.0, \n",
        "     514.0, 556.0, 840.0, 685.0, 700.0, 700.0, 690.0, 900.0, 650.0, \n",
        "     820.0, 850.0, 900.0, 1015.0, 820.0, 1100.0, 1000.0, 1100.0, \n",
        "     1000.0, 1000.0]\n",
        "     )"
      ],
      "execution_count": null,
      "outputs": []
    },
    {
      "cell_type": "code",
      "metadata": {
        "id": "8XCSja3aN4LZ"
      },
      "source": [
        "import matplotlib.pyplot as plt"
      ],
      "execution_count": null,
      "outputs": []
    },
    {
      "cell_type": "code",
      "metadata": {
        "colab": {
          "base_uri": "https://localhost:8080/",
          "height": 279
        },
        "id": "It-x2zhiN5Q9",
        "outputId": "d8df0796-64be-4ca8-c5ef-20efc5a82794"
      },
      "source": [
        "plt.scatter(perch_length, perch_weight)\n",
        "plt.xlabel('length')\n",
        "plt.ylabel('weight')\n",
        "plt.show()"
      ],
      "execution_count": null,
      "outputs": [
        {
          "output_type": "display_data",
          "data": {
            "image/png": "[encoded data removed]",
            "text/plain": [
              "<Figure size 432x288 with 1 Axes>"
            ]
          },
          "metadata": {
            "tags": [],
            "needs_background": "light"
          }
        }
      ]
    },
    {
      "cell_type": "code",
      "metadata": {
        "id": "QoeUUuh7ODRE"
      },
      "source": [
        "from sklearn.model_selection import train_test_split"
      ],
      "execution_count": null,
      "outputs": []
    },
    {
      "cell_type": "code",
      "metadata": {
        "id": "WQbMYTNUOIgP"
      },
      "source": [
        "# 훈련세트, 테스트 세트를 나눔 \n",
        "# 사이킷런에서 사용할 훈련세트는 2차원이여야한다. (행, 열이 있는 것)\n",
        "# random_state=42 : 학습을 위한 설정 (항상 같은 랜덤수가 나오게)\n",
        "train_input, test_input, train_target, test_target = train_test_split(\n",
        "    perch_length, perch_weight, random_state=42)"
      ],
      "execution_count": null,
      "outputs": []
    },
    {
      "cell_type": "code",
      "metadata": {
        "id": "ApY4CyIFOKPy",
        "colab": {
          "base_uri": "https://localhost:8080/"
        },
        "outputId": "f33dead3-ca1e-4ff8-b41d-fb15ee05bc78"
      },
      "source": [
        "# input이 1차원 배열이였기에 -> 2차원 배열로 shape를 변경한다.\n",
        "print(train_input.shape, test_input.shape)\n",
        "\n",
        "train_input = train_input.reshape(-1, 1)\n",
        "test_input = test_input.reshape(-1, 1)\n",
        "print(train_input.shape, test_input.shape)"
      ],
      "execution_count": null,
      "outputs": [
        {
          "output_type": "stream",
          "text": [
            "(42,) (14,)\n",
            "(42, 1) (14, 1)\n"
          ],
          "name": "stdout"
        }
      ]
    },
    {
      "cell_type": "markdown",
      "metadata": {
        "id": "NtmNJ7OqrKy_"
      },
      "source": [
        "## 결정 계수 ($ R^2$)"
      ]
    },
    {
      "cell_type": "code",
      "metadata": {
        "id": "BcPh-Da44lhx"
      },
      "source": [
        "from sklearn.neighbors import KNeighborsRegressor"
      ],
      "execution_count": null,
      "outputs": []
    },
    {
      "cell_type": "code",
      "metadata": {
        "colab": {
          "base_uri": "https://localhost:8080/"
        },
        "id": "z2V1mqTwmEby",
        "outputId": "eb4e0c84-3776-47d3-d267-10c3976bac99"
      },
      "source": [
        "# k-최근접 이웃 회귀 모델을 훈련합니다.\n",
        "knr = KNeighborsRegressor()\n",
        "knr.fit(train_input, train_target)"
      ],
      "execution_count": null,
      "outputs": [
        {
          "output_type": "execute_result",
          "data": {
            "text/plain": [
              "KNeighborsRegressor(algorithm='auto', leaf_size=30, metric='minkowski',\n",
              "                    metric_params=None, n_jobs=None, n_neighbors=5, p=2,\n",
              "                    weights='uniform')"
            ]
          },
          "metadata": {
            "tags": []
          },
          "execution_count": 9
        }
      ]
    },
    {
      "cell_type": "code",
      "metadata": {
        "colab": {
          "base_uri": "https://localhost:8080/"
        },
        "id": "gqPuCfO3mUel",
        "outputId": "fa6f2697-3fbc-47bd-b47c-93dc8bfecee8"
      },
      "source": [
        "# 테스트 세트의 점수를 확인합니다.\n",
        "\n",
        "knr.score(test_input, test_target)"
      ],
      "execution_count": null,
      "outputs": [
        {
          "output_type": "execute_result",
          "data": {
            "text/plain": [
              "0.9928094061010639"
            ]
          },
          "metadata": {
            "tags": []
          },
          "execution_count": 10
        }
      ]
    },
    {
      "cell_type": "markdown",
      "metadata": {
        "id": "JrBbjGH-maeU"
      },
      "source": [
        "모델을 평가 (score)할때 사용하는 지표\n",
        "\n",
        "- 분류 -> 정확도\n",
        "- 회귀 -> 결정계수 (R^2)\n",
        "\n",
        "![image.png](data:image/png;base64,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)"
      ]
    },
    {
      "cell_type": "markdown",
      "metadata": {
        "id": "mHrDK8Mem0cE"
      },
      "source": [
        "$ R^2$ 는 정확도처럼 얼마나 좋은지 한번에 확인하기가 어렵니다.\n",
        "\n",
        "-> sklearn.metrics 패키지(여러가지 측정 도구를 제공)의 mean_absolute_error 를 이용한다.\n",
        "  - mean_absolute_error : 타깃과 예측의 절댓값 오차를 평균하여 반환"
      ]
    },
    {
      "cell_type": "code",
      "metadata": {
        "id": "RbxCDz5PnYkM"
      },
      "source": [
        "from sklearn.metrics import mean_absolute_error"
      ],
      "execution_count": null,
      "outputs": []
    },
    {
      "cell_type": "code",
      "metadata": {
        "colab": {
          "base_uri": "https://localhost:8080/"
        },
        "id": "E90deOfanb8I",
        "outputId": "f3c7fb68-9802-4e69-c4d7-08a14dff2545"
      },
      "source": [
        "# 테스트 세트에 대한 예측을 만들고 -> 평균 절댓값 오차를 계산한다.\n",
        "\n",
        "test_prediction = knr.predict(test_input)\n",
        "mae = mean_absolute_error(test_target, test_prediction)\n",
        "print(mae)"
      ],
      "execution_count": null,
      "outputs": [
        {
          "output_type": "stream",
          "text": [
            "19.157142857142862\n"
          ],
          "name": "stdout"
        }
      ]
    },
    {
      "cell_type": "markdown",
      "metadata": {
        "id": "pLW8kdDv5asl"
      },
      "source": [
        "## 과대적합 vs 과소적합\n",
        "\n",
        "train으로 훈련시킨 데이터이기 때문에 보통 점수는 train 세트 > test 세트 이다.\n",
        "\n",
        "그런데 그 차이가 너무나 심하게 차이가 나면 \n",
        "- 과대적합(train ↑), \n",
        "- 과소적합(test ↑, 둘다 너무 낮은 경우)이라고 판단한다.\n",
        "\n",
        "그 이유로는 \n",
        "1. 모델이 너무 단순하여서 훈련 세트에서 적절히 훈련되지 않은 경우\n",
        "2. 훈련세트/ 테스트세트의 크기가 매우 작기 때문에\n",
        "\n",
        "---\n",
        "\n",
        "- 과대적합일 경우 모델을 덜 복잡하게 만들어야 합니다.k-최근접 이웃의 경우 k 값을 늘립니다. \n",
        "- 과소 \n",
        "적합일 경우모벨을 더 복잡하게 어야합니다. k-최근접 이웃의 경우 값을줄이는것입니다. "
      ]
    },
    {
      "cell_type": "code",
      "metadata": {
        "colab": {
          "base_uri": "https://localhost:8080/"
        },
        "id": "y7A2MOpGntW0",
        "outputId": "ae852f89-9c99-459f-8b6b-391a4dc504e7"
      },
      "source": [
        "print(\"train set :\", knr.score(train_input, train_target))\n",
        "print(\"test set :\", knr.score(test_input, test_target))\n",
        "print(\"------- 과소 적합 -------\")"
      ],
      "execution_count": null,
      "outputs": [
        {
          "output_type": "stream",
          "text": [
            "train set : 0.9698823289099255\n",
            "test set : 0.9928094061010639\n",
            "------- 과소 적합 -------\n"
          ],
          "name": "stdout"
        }
      ]
    },
    {
      "cell_type": "code",
      "metadata": {
        "colab": {
          "base_uri": "https://localhost:8080/"
        },
        "id": "PPeljttzpRIv",
        "outputId": "e8c8ab85-97ce-4574-f25c-7cee0c66f767"
      },
      "source": [
        "# 모델을 복잡하게 만들기 위해서 이웃의 수를 줄인다 (5 -> 3)\n",
        "\n",
        "knr.n_neighbors = 3\n",
        "knr.fit(train_input, train_target)\n",
        "print(\"train set :\", knr.score(train_input, train_target))\n",
        "print(\"test set :\", knr.score(test_input, test_target))\n",
        "print(\"------- 과소 적합 해결 -------\")"
      ],
      "execution_count": null,
      "outputs": [
        {
          "output_type": "stream",
          "text": [
            "train set : 0.9804899950518966\n",
            "test set : 0.974645996398761\n",
            "------- 과소 적합 해결 -------\n"
          ],
          "name": "stdout"
        }
      ]
    },
    {
      "cell_type": "markdown",
      "metadata": {
        "id": "tijDLbJ4pboo"
      },
      "source": [
        "## 확인문제 2번\n",
        "\n",
        "과대적합과 과소적합에 대한  이해를 돕기 위해 복잡한 모델과 단순한 모벨을 만들겠습니다. <br>\n",
        "\n",
        "앞서 만든 k 최근접 이웃 회귀 모벨의 k 값을 1, 5, 10으로 바꿔가며 훈련해 보세요. <br> 그다음 농어의 길이를 에서 45까지 바꿔가며 측을 만들어 그래프로 나타내 보세요.<br>\n",
        "n 이 커짐에 따라 모델이 단순해지는 것을 볼 수 있나요?"
      ]
    },
    {
      "cell_type": "code",
      "metadata": {
        "colab": {
          "base_uri": "https://localhost:8080/",
          "height": 957
        },
        "id": "GDDM8cG5WvmM",
        "outputId": "9006b4fa-03e3-4ea2-a6fb-c09d81ca6ccf"
      },
      "source": [
        "# k-최근접 이웃 회귀 객체를 만듭니다\n",
        "knr = KNeighborsRegressor()\n",
        "# 5에서 45까지 x 좌표를 만듭니다\n",
        "x = np.arange(5, 45).reshape(-1, 1)\n",
        "\n",
        "for n in [1, 5, 10]:\n",
        "  # 모델 훈련\n",
        "  knr.n_neighbors = n\n",
        "  knr.fit(train_input, train_target)\n",
        "\n",
        "  # score 점수\n",
        "  print(\"train set :\", knr.score(train_input, train_target))\n",
        "  print(\"test set :\", knr.score(test_input, test_target))\n",
        "\n",
        "  # 지정한 범위 x에 대한 예측\n",
        "  prediction = knr.predict(x)\n",
        "\n",
        "  # 그래프 그리기\n",
        "  plt.scatter(train_input, train_target)\n",
        "  plt.plot(x, prediction)\n",
        "  plt.title(f'n_neighbors = {n}')\n",
        "  plt.xlabel('length')\n",
        "  plt.ylabel('weight')\n",
        "  plt.show()"
      ],
      "execution_count": null,
      "outputs": [
        {
          "output_type": "stream",
          "text": [
            "train set : 0.9852830341215901\n",
            "test set : 0.991309195814175\n"
          ],
          "name": "stdout"
        },
        {
          "output_type": "display_data",
          "data": {
            "image/png": "[encoded data removed]",
            "text/plain": [
              "<Figure size 432x288 with 1 Axes>"
            ]
          },
          "metadata": {
            "tags": [],
            "needs_background": "light"
          }
        },
        {
          "output_type": "stream",
          "text": [
            "train set : 0.9698823289099255\n",
            "test set : 0.9928094061010639\n"
          ],
          "name": "stdout"
        },
        {
          "output_type": "display_data",
          "data": {
            "image/png": "[encoded data removed]",
            "text/plain": [
              "<Figure size 432x288 with 1 Axes>"
            ]
          },
          "metadata": {
            "tags": [],
            "needs_background": "light"
          }
        },
        {
          "output_type": "stream",
          "text": [
            "train set : 0.9616456902604301\n",
            "test set : 0.9737908255822255\n"
          ],
          "name": "stdout"
        },
        {
          "output_type": "display_data",
          "data": {
            "image/png": "[encoded data removed]",
            "text/plain": [
              "<Figure size 432x288 with 1 Axes>"
            ]
          },
          "metadata": {
            "tags": [],
            "needs_background": "light"
          }
        }
      ]
    },
    {
      "cell_type": "code",
      "metadata": {
        "id": "I3iGID92X_pI"
      },
      "source": [
        ""
      ],
      "execution_count": null,
      "outputs": []
    }
  ]
}